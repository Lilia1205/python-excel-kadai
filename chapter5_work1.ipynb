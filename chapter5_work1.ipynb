{
 "cells": [
  {
   "cell_type": "code",
   "execution_count": 1,
   "metadata": {},
   "outputs": [],
   "source": [
    "import openpyxl\n",
    "from openpyxl.styles import Border, Side\n",
    "\n",
    "# 新しいワークブックを作成\n",
    "workbook = openpyxl.Workbook()\n",
    "sheet = workbook.active"
   ]
  },
  {
   "cell_type": "code",
   "execution_count": 2,
   "metadata": {},
   "outputs": [],
   "source": [
    "# 表のヘッダー行を書き込む\n",
    "header = ['商品名', '単価', '数量', '売上']\n",
    "sheet.append(header)\n",
    "\n",
    "# 表のデータを書き込む\n",
    "data = [\n",
    "    ['商品A', 1000, 8, 8000],\n",
    "    ['商品B', 2000, 5, 10000],\n",
    "    ['商品C', 500, 13, 6500]\n",
    "]\n",
    "# for文でdataの各行をワークシートに追加する\n",
    "for row in data:\n",
    "    sheet.append(row)"
   ]
  },
  {
   "cell_type": "code",
   "execution_count": 3,
   "metadata": {},
   "outputs": [],
   "source": [
    "# セルA1:D4に上下左右に枠線を追加\n",
    "thin_border = Border(left=Side(style='thin'),\n",
    "                    right=Side(style='thin'),\n",
    "                    top=Side(style='thin'),\n",
    "                    bottom=Side(style='thin'))\n",
    "# セル範囲をsheet['A1:D4'] と指定して、for文で各セルに枠線を追加\n",
    "for row in sheet['A1:D4']:\n",
    "    for cell in row:\n",
    "        cell.border = thin_border\n",
    "\n",
    "# ファイルを保存\n",
    "workbook.save('売上表.xlsx')"
   ]
  },
  {
   "cell_type": "code",
   "execution_count": 4,
   "metadata": {},
   "outputs": [],
   "source": [
    "import openpyxl\n",
    "from openpyxl.chart import BarChart, Reference\n",
    "\n",
    "# Excelファイルを読み込む\n",
    "workbook = openpyxl.load_workbook('売上表.xlsx')\n",
    "sheet = workbook.active"
   ]
  },
  {
   "cell_type": "code",
   "execution_count": 5,
   "metadata": {},
   "outputs": [],
   "source": [
    "# グラフに使うデータ範囲を指定する（4列目〜4列目、1行目〜最終行目）\n",
    "data = Reference(sheet, min_row=1, min_col=4, max_row=sheet.max_row, max_col=4)\n",
    "\n",
    "# グラフに使うデータ範囲を指定する（1列目〜1列目、2行目〜最終行目）\n",
    "categories_range = Reference(sheet, min_col=1, min_row=2, max_row=sheet.max_row, max_col=1)\n",
    "\n",
    "# 棒グラフオブジェクトを作成する\n",
    "chart = BarChart()\n",
    "\n",
    "# 指定されたデータ範囲をグラフに追加する\n",
    "chart.add_data(data, titles_from_data=True)\n",
    "\n",
    "# グラフのX軸に表示するラベルを設定する\n",
    "chart.set_categories(categories_range)\n",
    "# グラフを挿入する位置を指定（最終行の２つ下の行）\n",
    "chart_cell = sheet.max_row + 2\n",
    "\n",
    "# グラフをExcelファイルの指定した位置に挿入\n",
    "sheet.add_chart(chart, f\"A{chart_cell}\")\n",
    "\n",
    "# Excelファイルを保存\n",
    "workbook.save(\"売上表_棒グラフ.xlsx\")"
   ]
  },
  {
   "cell_type": "code",
   "execution_count": null,
   "metadata": {},
   "outputs": [],
   "source": []
  }
 ],
 "metadata": {
  "kernelspec": {
   "display_name": "Python 3",
   "language": "python",
   "name": "python3"
  },
  "language_info": {
   "codemirror_mode": {
    "name": "ipython",
    "version": 3
   },
   "file_extension": ".py",
   "mimetype": "text/x-python",
   "name": "python",
   "nbconvert_exporter": "python",
   "pygments_lexer": "ipython3",
   "version": "3.13.2"
  }
 },
 "nbformat": 4,
 "nbformat_minor": 2
}
