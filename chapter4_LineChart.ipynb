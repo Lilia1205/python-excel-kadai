{
 "cells": [
  {
   "cell_type": "code",
   "execution_count": 1,
   "metadata": {},
   "outputs": [],
   "source": [
    "import openpyxl\n",
    "from openpyxl.chart import LineChart, Reference"
   ]
  },
  {
   "cell_type": "code",
   "execution_count": null,
   "metadata": {},
   "outputs": [],
   "source": [
    "# Workbookオブジェクトを作成する\n",
    "wb = openpyxl.Workbook()\n",
    "\n",
    "# アクティブなシートを変数「ws」に格納\n",
    "ws = wb.active"
   ]
  },
  {
   "cell_type": "code",
   "execution_count": 8,
   "metadata": {},
   "outputs": [
    {
     "ename": "NameError",
     "evalue": "name 'workbook' is not defined",
     "output_type": "error",
     "traceback": [
      "\u001b[31m---------------------------------------------------------------------------\u001b[39m",
      "\u001b[31mNameError\u001b[39m                                 Traceback (most recent call last)",
      "\u001b[36mCell\u001b[39m\u001b[36m \u001b[39m\u001b[32mIn[8]\u001b[39m\u001b[32m, line 21\u001b[39m\n\u001b[32m     18\u001b[39m     \u001b[38;5;66;03m# i+1行目の3列目に、iの値を2で割った余りを書き込む\u001b[39;00m\n\u001b[32m     19\u001b[39m     ws.cell(row=i+\u001b[32m1\u001b[39m, column=\u001b[32m3\u001b[39m, value=i % \u001b[32m2\u001b[39m)\n\u001b[32m---> \u001b[39m\u001b[32m21\u001b[39m \u001b[43mworkbook\u001b[49m.save(\u001b[33m'\u001b[39m\u001b[33moutput.xlsx\u001b[39m\u001b[33m'\u001b[39m)\n",
      "\u001b[31mNameError\u001b[39m: name 'workbook' is not defined"
     ]
    }
   ],
   "source": [
    "\n",
    "# Workbookオブジェクトを作成する\n",
    "wb = openpyxl.Workbook()\n",
    "\n",
    "# アクティブなシートを変数「ws」に格納\n",
    "ws = wb.active\n",
    "\n",
    "# 系列データのタイトルを1行目に設定\n",
    "ws.cell(row=1, column=2, value='d1')\n",
    "ws.cell(row=1, column=3, value='d2')\n",
    "\n",
    "for i in range(1, 6):\n",
    "    # i+1行目の1列目に文字列\"X1\"から\"X5\"のいずれかを書き込む\n",
    "    ws.cell(row=i+1, column=1, value=f\"X{i}\")\n",
    "\n",
    "    #  i+1行目の2列目に、iの値を2乗した数値を書き込む\n",
    "    ws.cell(row=i+1, column=2, value=i * i)\n",
    "\n",
    "    # i+1行目の3列目に、iの値を2で割った余りを書き込む\n",
    "    ws.cell(row=i+1, column=3, value=i % 2)\n",
    "    \n",
    "workbook.save('output.xlsx')\n"
   ]
  },
  {
   "cell_type": "code",
   "execution_count": 9,
   "metadata": {},
   "outputs": [],
   "source": [
    "from openpyxl import Workbook\n",
    "\n",
    "# 新しいワークブックを作成\n",
    "workbook = Workbook()\n",
    "\n",
    "# アクティブなワークシートを取得\n",
    "ws = workbook.active\n",
    "\n",
    "# 系列データのタイトルを1行目に設定\n",
    "ws.cell(row=1, column=2, value='d1')\n",
    "ws.cell(row=1, column=3, value='d2')\n",
    "\n",
    "# データを5行分書き込む\n",
    "for i in range(1, 6):\n",
    "    ws.cell(row=i+1, column=1, value=f\"X{i}\")       # A列（1列目）\n",
    "    ws.cell(row=i+1, column=2, value=i * i)         # B列（2列目）\n",
    "    ws.cell(row=i+1, column=3, value=i % 2)         # C列（3列目）\n",
    "\n",
    "# ファイルとして保存\n",
    "workbook.save('output.xlsx')\n"
   ]
  },
  {
   "cell_type": "code",
   "execution_count": 10,
   "metadata": {},
   "outputs": [],
   "source": [
    "# LineChartオブジェクトを作成\n",
    "chart = LineChart()\n",
    "\n",
    "# 折れ線グラフのタイトルを「Sample Chart」と設定\n",
    "chart.title = 'Sample Chart'\n",
    "\n",
    "# 折れ線グラフのX軸に表示されるタイトルを「X」と設定\n",
    "chart.x_axis.title = 'X'\n",
    "\n",
    "# 折れ線グラフのY軸に表示されるタイトルを「Y」と設定\n",
    "chart.y_axis.title = 'Y'"
   ]
  },
  {
   "cell_type": "code",
   "execution_count": 12,
   "metadata": {},
   "outputs": [],
   "source": [
    "# グラフに使うデータ範囲を指定する（2列目〜3列目、1行目〜6行目）\n",
    "data = Reference(ws, min_row=1, min_col=2, max_row=6, max_col=3)\n",
    "\n",
    "# 指定された範囲のデータをグラフに追加する。タイトルも取得する。\n",
    "chart.add_data(data, titles_from_data=True)\n",
    "\n",
    "# ラベルに使うデータ範囲を指定する（1列目の2行目〜6行目）\n",
    "labels = Reference(ws, min_col=1, min_row=2, max_row=6)\n",
    "\n",
    "# 指定されたデータをグラフのX軸に設定する\n",
    "chart.set_categories(labels)"
   ]
  },
  {
   "cell_type": "code",
   "execution_count": 13,
   "metadata": {},
   "outputs": [],
   "source": [
    "# グラフの凡例を非表示にする\n",
    "chart.legend = None\n",
    "# 作成したグラフをワークシートのE1に配置する\n",
    "ws.add_chart(chart, 'E1')\n",
    "\n",
    "wb.save('output_LineChart.xlsx')"
   ]
  },
  {
   "cell_type": "code",
   "execution_count": 15,
   "metadata": {},
   "outputs": [],
   "source": [
    "import openpyxl\n",
    "from openpyxl.chart import LineChart, Reference\n",
    "# Workbookオブジェクトを作成する\n",
    "wb = openpyxl.Workbook()\n",
    "\n",
    "# アクティブなシートを変数「ws」に格納\n",
    "ws = wb.active\n",
    "# 系列データのタイトルを1行目に設定\n",
    "ws.cell(row=1, column=2, value='d1')\n",
    "ws.cell(row=1, column=3, value='d2')\n",
    "\n",
    "for i in range(1, 6):\n",
    "    # i+1行目の1列目に文字列\"X1\"から\"X5\"のいずれかを書き込む\n",
    "    ws.cell(row=i+1, column=1, value=f\"X{i}\")\n",
    "\n",
    "    #  i+1行目の2列目に、iの値を2乗した数値を書き込む\n",
    "    ws.cell(row=i+1, column=2, value=i * i)\n",
    "\n",
    "    # i+1行目の3列目に、iの値を2で割った余りを書き込む\n",
    "    ws.cell(row=i+1, column=3, value=i % 2)\n",
    "\n",
    "# LineChartオブジェクトを作成\n",
    "chart = LineChart()\n",
    "\n",
    "# 折れ線グラフのタイトルを「Sample Chart」と設定\n",
    "chart.title = 'Sample Chart'\n",
    "\n",
    "# 折れ線グラフのX軸に表示されるタイトルを「X」と設定\n",
    "chart.x_axis.title = 'X'\n",
    "\n",
    "# 折れ線グラフのY軸に表示されるタイトルを「Y」と設定\n",
    "chart.y_axis.title = 'Y'    \n",
    "\n",
    "\n",
    "# グラフに使うデータ範囲を指定する（2列目〜3列目、1行目〜6行目）\n",
    "data = Reference(ws, min_row=1, min_col=2, max_row=6, max_col=3)\n",
    "\n",
    "# 指定された範囲のデータをグラフに追加する。タイトルも取得する。\n",
    "chart.add_data(data, titles_from_data=True)\n",
    "\n",
    "# ラベルに使うデータ範囲を指定する（1列目の2行目〜6行目）\n",
    "labels = Reference(ws, min_col=1, min_row=2, max_row=6)\n",
    "\n",
    "# 指定されたデータをグラフのX軸に設定する\n",
    "chart.set_categories(labels)\n",
    "\n",
    "# グラフの凡例を非表示にする\n",
    "chart.legend = None\n",
    "# 作成したグラフをワークシートのE1に配置する\n",
    "ws.add_chart(chart, 'E1')\n",
    "\n",
    "wb.save('output_LineChart.xlsx')\n",
    "\n"
   ]
  },
  {
   "cell_type": "code",
   "execution_count": 16,
   "metadata": {},
   "outputs": [],
   "source": [
    "import openpyxl\n",
    "from openpyxl.chart import BarChart, Reference\n",
    "\n",
    "wb = openpyxl.Workbook()\n",
    "ws = wb.active\n",
    "\n",
    "ws.cell(row=1, column=2, value='d1')\n",
    "ws.cell(row=1, column=3, value='d2')\n",
    "\n",
    "for i in range(1, 6):\n",
    "    ws.cell(row=i+1, column=1, value=f\"X{i}\")\n",
    "    ws.cell(row=i+1, column=2, value=i * i)\n",
    "    ws.cell(row=i+1, column=3, value=i % 2)\n",
    "\n",
    "chart = BarChart()\n",
    "chart.title = 'Sample Chart'\n",
    "chart.x_axis.title = 'X'\n",
    "chart.y_axis.title = 'Y'\n",
    "\n",
    "data = Reference(ws, min_row=1, min_col=2, max_row=6, max_col=3)\n",
    "\n",
    "chart.add_data(data, titles_from_data=True)\n",
    "\n",
    "labels = Reference(ws, min_col=1, min_row=2, max_row=6)\n",
    "\n",
    "chart.set_categories(labels)\n",
    "\n",
    "chart.legend = None\n",
    "\n",
    "ws.add_chart(chart, 'E1')\n",
    "\n",
    "wb.save('output_BarChart.xlsx')"
   ]
  }
 ],
 "metadata": {
  "kernelspec": {
   "display_name": "Python 3",
   "language": "python",
   "name": "python3"
  },
  "language_info": {
   "codemirror_mode": {
    "name": "ipython",
    "version": 3
   },
   "file_extension": ".py",
   "mimetype": "text/x-python",
   "name": "python",
   "nbconvert_exporter": "python",
   "pygments_lexer": "ipython3",
   "version": "3.13.2"
  }
 },
 "nbformat": 4,
 "nbformat_minor": 2
}
