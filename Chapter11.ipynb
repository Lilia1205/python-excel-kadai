{
 "cells": [
  {
   "cell_type": "code",
   "execution_count": 2,
   "metadata": {},
   "outputs": [
    {
     "name": "stdout",
     "output_type": "stream",
     "text": [
      "年代\n",
      "20    50.0\n",
      "30    80.0\n",
      "Name: 得点, dtype: float64\n"
     ]
    }
   ],
   "source": [
    "import pandas as pd\n",
    "\n",
    "\n",
    "# Excelファイルを読み込む\n",
    "df = pd.read_excel('Chapter11_1.xlsx', sheet_name='Sheet1')\n",
    "\n",
    "# 年代別に「得点」列の平均値を計算する\n",
    "result = df.groupby('年代')['得点'].mean()\n",
    "\n",
    "print(result)"
   ]
  },
  {
   "cell_type": "code",
   "execution_count": 3,
   "metadata": {},
   "outputs": [
    {
     "name": "stdout",
     "output_type": "stream",
     "text": [
      "   名前  年代  得点\n",
      "1  二郎  40  50\n",
      "2  三郎  50  60\n"
     ]
    }
   ],
   "source": [
    "import pandas as pd\n",
    "\n",
    "# Excelファイルの読み込み\n",
    "df = pd.read_excel('Chapter11_2.xlsx')\n",
    "\n",
    "# 年代が40代以上の人のデータを抽出\n",
    "df = df[df['年代'] >= 40]\n",
    "print(df)\n",
    "\n"
   ]
  },
  {
   "cell_type": "code",
   "execution_count": 4,
   "metadata": {},
   "outputs": [
    {
     "name": "stdout",
     "output_type": "stream",
     "text": [
      "            電話番号\n",
      "1  012-3456-7890\n"
     ]
    }
   ],
   "source": [
    "import pandas as pd\n",
    "\n",
    "# Excelファイルの読み込み\n",
    "df = pd.read_excel('Chapter11_3.xlsx', sheet_name='Sheet1')\n",
    "\n",
    "# 変数patternに電話番号の正規表現を格納、文字列のため'を使用\n",
    "pattern = r'^[0-9]{3}-[0-9]{4}-[0-9]{4}$'\n",
    "\n",
    "# 電話番号列につきstr.contains()でpatternに一致する行のみdf_filteredに格納\n",
    "df_filtered = df[df['電話番号'].str.contains(pattern, na=False)]\n",
    "\n",
    "print(df_filtered)\n",
    "\n"
   ]
  },
  {
   "cell_type": "code",
   "execution_count": 5,
   "metadata": {},
   "outputs": [
    {
     "name": "stdout",
     "output_type": "stream",
     "text": [
      "   名前  年代  得点\n",
      "0  名前  年代  得点\n",
      "1  一郎  20  40\n",
      "2  二郎  20  50\n",
      "3  三郎  20  60\n",
      "4  名前  年代  得点\n",
      "5  四郎  30  70\n",
      "6  五郎  30  80\n",
      "7  六郎  30  90\n"
     ]
    }
   ],
   "source": [
    "import pandas as pd\n",
    "\n",
    "\n",
    "# 処理対象のファイル名のリストを格納\n",
    "file_list = ['Chapter11_4.xlsx', 'Chapter11_5.xlsx']\n",
    "\n",
    "# 結合後のデータを格納するための空のデータフレームを作成\n",
    "df = pd.DataFrame()\n",
    "\n",
    "# ファイルを一つずつ処理する\n",
    "for file_name in file_list:\n",
    "    # Excelファイルを読み込む\n",
    "    temp_df = pd.read_excel(file_name, header=None)\n",
    "\n",
    "    # データフレームの列名を指定\n",
    "    temp_df.columns = ['名前', '年代', '得点']\n",
    "    \n",
    "    # concat()でデータフレームを連結\n",
    "    df = pd.concat([df, temp_df], ignore_index=True)\n",
    "\n",
    "print(df)\n"
   ]
  },
  {
   "cell_type": "code",
   "execution_count": null,
   "metadata": {},
   "outputs": [],
   "source": []
  }
 ],
 "metadata": {
  "kernelspec": {
   "display_name": "Python 3",
   "language": "python",
   "name": "python3"
  },
  "language_info": {
   "codemirror_mode": {
    "name": "ipython",
    "version": 3
   },
   "file_extension": ".py",
   "mimetype": "text/x-python",
   "name": "python",
   "nbconvert_exporter": "python",
   "pygments_lexer": "ipython3",
   "version": "3.13.2"
  }
 },
 "nbformat": 4,
 "nbformat_minor": 2
}
